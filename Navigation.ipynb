{
 "cells": [
  {
   "cell_type": "markdown",
   "metadata": {},
   "source": [
    "# Navigation\n",
    "\n",
    "---\n",
    "\n",
    "In this notebook, you will learn how to use the Unity ML-Agents environment for the first project of the [Deep Reinforcement Learning Nanodegree](https://www.udacity.com/course/deep-reinforcement-learning-nanodegree--nd893).\n",
    "\n",
    "### 1. Start the Environment\n",
    "\n",
    "We begin by importing some necessary packages.  If the code cell below returns an error, please revisit the project instructions to double-check that you have installed [Unity ML-Agents](https://github.com/Unity-Technologies/ml-agents/blob/master/docs/Installation.md) and [NumPy](http://www.numpy.org/)."
   ]
  },
  {
   "cell_type": "code",
   "execution_count": 1,
   "metadata": {},
   "outputs": [],
   "source": [
    "from unityagents import UnityEnvironment\n",
    "import numpy as np"
   ]
  },
  {
   "cell_type": "markdown",
   "metadata": {},
   "source": [
    "Next, we will start the environment!  **_Before running the code cell below_**, change the `file_name` parameter to match the location of the Unity environment that you downloaded.\n",
    "\n",
    "- **Mac**: `\"path/to/Banana.app\"`\n",
    "- **Windows** (x86): `\"path/to/Banana_Windows_x86/Banana.exe\"`\n",
    "- **Windows** (x86_64): `\"path/to/Banana_Windows_x86_64/Banana.exe\"`\n",
    "- **Linux** (x86): `\"path/to/Banana_Linux/Banana.x86\"`\n",
    "- **Linux** (x86_64): `\"path/to/Banana_Linux/Banana.x86_64\"`\n",
    "- **Linux** (x86, headless): `\"path/to/Banana_Linux_NoVis/Banana.x86\"`\n",
    "- **Linux** (x86_64, headless): `\"path/to/Banana_Linux_NoVis/Banana.x86_64\"`\n",
    "\n",
    "For instance, if you are using a Mac, then you downloaded `Banana.app`.  If this file is in the same folder as the notebook, then the line below should appear as follows:\n",
    "```\n",
    "env = UnityEnvironment(file_name=\"Banana.app\")\n",
    "```"
   ]
  },
  {
   "cell_type": "code",
   "execution_count": 2,
   "metadata": {},
   "outputs": [
    {
     "name": "stderr",
     "output_type": "stream",
     "text": [
      "INFO:unityagents:\n",
      "'Academy' started successfully!\n",
      "Unity Academy name: Academy\n",
      "        Number of Brains: 1\n",
      "        Number of External Brains : 1\n",
      "        Lesson number : 0\n",
      "        Reset Parameters :\n",
      "\t\t\n",
      "Unity brain name: BananaBrain\n",
      "        Number of Visual Observations (per agent): 0\n",
      "        Vector Observation space type: continuous\n",
      "        Vector Observation space size (per agent): 37\n",
      "        Number of stacked Vector Observation: 1\n",
      "        Vector Action space type: discrete\n",
      "        Vector Action space size (per agent): 4\n",
      "        Vector Action descriptions: , , , \n"
     ]
    }
   ],
   "source": [
    "env = UnityEnvironment(file_name=\"./Banana_Linux_NoVis/Banana.x86_64\")"
   ]
  },
  {
   "cell_type": "markdown",
   "metadata": {},
   "source": [
    "Environments contain **_brains_** which are responsible for deciding the actions of their associated agents. Here we check for the first brain available, and set it as the default brain we will be controlling from Python."
   ]
  },
  {
   "cell_type": "code",
   "execution_count": 3,
   "metadata": {},
   "outputs": [],
   "source": [
    "# get the default brain\n",
    "brain_name = env.brain_names[0]\n",
    "brain = env.brains[brain_name]"
   ]
  },
  {
   "cell_type": "markdown",
   "metadata": {},
   "source": [
    "### 2. Examine the State and Action Spaces\n",
    "\n",
    "The simulation contains a single agent that navigates a large environment.  At each time step, it has four actions at its disposal:\n",
    "- `0` - walk forward \n",
    "- `1` - walk backward\n",
    "- `2` - turn left\n",
    "- `3` - turn right\n",
    "\n",
    "The state space has `37` dimensions and contains the agent's velocity, along with ray-based perception of objects around agent's forward direction.  A reward of `+1` is provided for collecting a yellow banana, and a reward of `-1` is provided for collecting a blue banana. \n",
    "\n",
    "Run the code cell below to print some information about the environment."
   ]
  },
  {
   "cell_type": "code",
   "execution_count": 4,
   "metadata": {},
   "outputs": [
    {
     "name": "stdout",
     "output_type": "stream",
     "text": [
      "Number of agents: 1\n",
      "Number of actions: 4\n",
      "States look like: [1.         0.         0.         0.         0.84408134 0.\n",
      " 0.         1.         0.         0.0748472  0.         1.\n",
      " 0.         0.         0.25755    1.         0.         0.\n",
      " 0.         0.74177343 0.         1.         0.         0.\n",
      " 0.25854847 0.         0.         1.         0.         0.09355672\n",
      " 0.         1.         0.         0.         0.31969345 0.\n",
      " 0.        ]\n",
      "States have length: 37\n"
     ]
    }
   ],
   "source": [
    "# reset the environment\n",
    "env_info = env.reset(train_mode=True)[brain_name]\n",
    "\n",
    "# number of agents in the environment\n",
    "print('Number of agents:', len(env_info.agents))\n",
    "\n",
    "# number of actions\n",
    "action_size = brain.vector_action_space_size\n",
    "print('Number of actions:', action_size)\n",
    "\n",
    "# examine the state space \n",
    "state = env_info.vector_observations[0]\n",
    "print('States look like:', state)\n",
    "state_size = len(state)\n",
    "print('States have length:', state_size)"
   ]
  },
  {
   "cell_type": "markdown",
   "metadata": {},
   "source": [
    "### 3. Take Random Actions in the Environment\n",
    "\n",
    "In the next code cell, you will learn how to use the Python API to control the agent and receive feedback from the environment.\n",
    "\n",
    "Once this cell is executed, you will watch the agent's performance, if it selects an action (uniformly) at random with each time step.  A window should pop up that allows you to observe the agent, as it moves through the environment.  \n",
    "\n",
    "Of course, as part of the project, you'll have to change the code so that the agent is able to use its experience to gradually choose better actions when interacting with the environment!"
   ]
  },
  {
   "cell_type": "code",
   "execution_count": 5,
   "metadata": {},
   "outputs": [
    {
     "name": "stdout",
     "output_type": "stream",
     "text": [
      "Score: 0.0\n"
     ]
    }
   ],
   "source": [
    "env_info = env.reset(train_mode=False)[brain_name] # reset the environment\n",
    "state = env_info.vector_observations[0]            # get the current state\n",
    "score = 0                                          # initialize the score\n",
    "while True:\n",
    "    action = np.random.randint(action_size)        # select an action\n",
    "    env_info = env.step(action)[brain_name]        # send the action to the environment\n",
    "    next_state = env_info.vector_observations[0]   # get the next state\n",
    "    reward = env_info.rewards[0]                   # get the reward\n",
    "    done = env_info.local_done[0]                  # see if episode has finished\n",
    "    score += reward                                # update the score\n",
    "    state = next_state                             # roll over the state to next time step\n",
    "    if done:                                       # exit loop if episode finished\n",
    "        break\n",
    "    \n",
    "print(\"Score: {}\".format(score))"
   ]
  },
  {
   "cell_type": "markdown",
   "metadata": {},
   "source": [
    "When finished, you can close the environment."
   ]
  },
  {
   "cell_type": "code",
   "execution_count": 6,
   "metadata": {},
   "outputs": [],
   "source": [
    "# env.close()"
   ]
  },
  {
   "cell_type": "markdown",
   "metadata": {},
   "source": [
    "### 4. It's Your Turn!\n",
    "\n",
    "Now it's your turn to train your own agent to solve the environment!  When training the environment, set `train_mode=True`, so that the line for resetting the environment looks like the following:\n",
    "```python\n",
    "env_info = env.reset(train_mode=True)[brain_name]\n",
    "```"
   ]
  },
  {
   "cell_type": "code",
   "execution_count": 5,
   "metadata": {},
   "outputs": [],
   "source": [
    "from dqn_agent import Agent\n",
    "from collections import deque\n",
    "agent = Agent(37, 4, 0)"
   ]
  },
  {
   "cell_type": "code",
   "execution_count": null,
   "metadata": {},
   "outputs": [
    {
     "name": "stdout",
     "output_type": "stream",
     "text": [
      "Episode 100\tAverage Score: 1.00\n",
      "Episode 200\tAverage Score: 3.93\n",
      "Episode 300\tAverage Score: 7.56\n",
      "Episode 400\tAverage Score: 11.26\n",
      "Episode 477\tAverage Score: 13.21"
     ]
    }
   ],
   "source": [
    "def dqn(n_episodes=2000, max_t=1000, eps_start=1.0, eps_end=0.01, eps_decay=0.995):\n",
    "    \"\"\"Deep Q-Learning.\n",
    "    \n",
    "    Params\n",
    "    ======\n",
    "        n_episodes (int): maximum number of training episodes\n",
    "        max_t (int): maximum number of timesteps per episode\n",
    "        eps_start (float): starting value of epsilon, for epsilon-greedy action selection\n",
    "        eps_end (float): minimum value of epsilon\n",
    "        eps_decay (float): multiplicative factor (per episode) for decreasing epsilon\n",
    "    \"\"\"\n",
    "    scores = []                        # list containing scores from each episode\n",
    "    scores_window = deque(maxlen=100)  # last 100 scores\n",
    "    eps = eps_start                    # initialize epsilon\n",
    "    for i_episode in range(1, n_episodes+1):\n",
    "        env_info = env.reset(train_mode=True)[brain_name]\n",
    "        state = env_info.vector_observations[0]\n",
    "        score = 0\n",
    "        for t in range(max_t):\n",
    "            action = agent.act(state, eps)\n",
    "            env_info = env.step(action)[brain_name] \n",
    "            next_state = env_info.vector_observations[0]   \n",
    "            reward = env_info.rewards[0]\n",
    "            done = env_info.local_done[0]  \n",
    "            agent.step(state, action, reward, next_state, done)\n",
    "            state = next_state\n",
    "            score += reward\n",
    "            if done:\n",
    "                break \n",
    "        scores_window.append(score)       # save most recent score\n",
    "        scores.append(score)              # save most recent score\n",
    "        eps = max(eps_end, eps_decay*eps) # decrease epsilon\n",
    "        print('\\rEpisode {}\\tAverage Score: {:.2f}'.format(i_episode, np.mean(scores_window)), end=\"\")\n",
    "        if i_episode % 100 == 0:\n",
    "            print('\\rEpisode {}\\tAverage Score: {:.2f}'.format(i_episode, np.mean(scores_window)))\n",
    "        if np.mean(scores_window)>=200.0:\n",
    "            print('\\nEnvironment solved in {:d} episodes!\\tAverage Score: {:.2f}'.format(i_episode-100, np.mean(scores_window)))\n",
    "            torch.save(agent.qnetwork_local.state_dict(), 'checkpoint.pth')\n",
    "            break\n",
    "    return scores\n",
    "\n",
    "scores = dqn()\n",
    "\n",
    "# plot the scores\n",
    "fig = plt.figure()\n",
    "ax = fig.add_subplot(111)\n",
    "plt.plot(np.arange(len(scores)), scores)\n",
    "plt.ylabel('Score')\n",
    "plt.xlabel('Episode #')\n",
    "plt.show()"
   ]
  },
  {
   "cell_type": "code",
   "execution_count": 11,
   "metadata": {},
   "outputs": [],
   "source": [
    "states, actions, rewards, next_states, dones = agent.memory.sample()"
   ]
  },
  {
   "cell_type": "code",
   "execution_count": 15,
   "metadata": {},
   "outputs": [
    {
     "data": {
      "text/plain": [
       "tensor([[  0.0000,   1.0000,   0.0000,  ...,   0.6267,  -0.0000,\n",
       "         -12.4295],\n",
       "        [  0.0000,   1.0000,   0.0000,  ...,   0.0041,  -0.0007,\n",
       "           0.0010],\n",
       "        [  0.0000,   0.0000,   1.0000,  ...,   0.0039,   0.0000,\n",
       "           0.0000],\n",
       "        ...,\n",
       "        [  0.0000,   1.0000,   0.0000,  ...,   0.0000,   0.0000,\n",
       "           0.0000],\n",
       "        [  1.0000,   0.0000,   0.0000,  ...,   0.1910,   0.0000,\n",
       "          -0.0000],\n",
       "        [  0.0000,   1.0000,   0.0000,  ...,   0.0048,  -0.0001,\n",
       "           0.0001]], device='cuda:0')"
      ]
     },
     "execution_count": 15,
     "metadata": {},
     "output_type": "execute_result"
    }
   ],
   "source": [
    "states"
   ]
  },
  {
   "cell_type": "code",
   "execution_count": 44,
   "metadata": {},
   "outputs": [],
   "source": [
    "argmaxes = agent.qnetwork_local(states).detach().argmax(1).unsqueeze(-1)"
   ]
  },
  {
   "cell_type": "code",
   "execution_count": 46,
   "metadata": {},
   "outputs": [
    {
     "data": {
      "text/plain": [
       "tensor([[ 3],\n",
       "        [ 3],\n",
       "        [ 3],\n",
       "        [ 3],\n",
       "        [ 3],\n",
       "        [ 3],\n",
       "        [ 3],\n",
       "        [ 3],\n",
       "        [ 3],\n",
       "        [ 3],\n",
       "        [ 3],\n",
       "        [ 3],\n",
       "        [ 3],\n",
       "        [ 3],\n",
       "        [ 3],\n",
       "        [ 3],\n",
       "        [ 3],\n",
       "        [ 3],\n",
       "        [ 3],\n",
       "        [ 3],\n",
       "        [ 3],\n",
       "        [ 3],\n",
       "        [ 3],\n",
       "        [ 3],\n",
       "        [ 3],\n",
       "        [ 3],\n",
       "        [ 3],\n",
       "        [ 3],\n",
       "        [ 3],\n",
       "        [ 3],\n",
       "        [ 3],\n",
       "        [ 3],\n",
       "        [ 3],\n",
       "        [ 3],\n",
       "        [ 3],\n",
       "        [ 3],\n",
       "        [ 3],\n",
       "        [ 3],\n",
       "        [ 3],\n",
       "        [ 3],\n",
       "        [ 3],\n",
       "        [ 3],\n",
       "        [ 3],\n",
       "        [ 3],\n",
       "        [ 3],\n",
       "        [ 3],\n",
       "        [ 3],\n",
       "        [ 3],\n",
       "        [ 3],\n",
       "        [ 3],\n",
       "        [ 3],\n",
       "        [ 3],\n",
       "        [ 3],\n",
       "        [ 3],\n",
       "        [ 3],\n",
       "        [ 3],\n",
       "        [ 3],\n",
       "        [ 3],\n",
       "        [ 3],\n",
       "        [ 1],\n",
       "        [ 3],\n",
       "        [ 3],\n",
       "        [ 3],\n",
       "        [ 3]], device='cuda:0')"
      ]
     },
     "execution_count": 46,
     "metadata": {},
     "output_type": "execute_result"
    }
   ],
   "source": [
    "argmaxes"
   ]
  },
  {
   "cell_type": "code",
   "execution_count": 27,
   "metadata": {},
   "outputs": [
    {
     "data": {
      "text/plain": [
       "tensor([[ 0.0962,  0.0976,  0.0963,  0.0978],\n",
       "        [ 0.0962,  0.0976,  0.0963,  0.0978],\n",
       "        [ 0.0962,  0.0976,  0.0963,  0.0978],\n",
       "        [ 0.0962,  0.0976,  0.0963,  0.0978],\n",
       "        [ 0.0962,  0.0976,  0.0963,  0.0978],\n",
       "        [ 0.0962,  0.0976,  0.0963,  0.0978],\n",
       "        [ 0.0962,  0.0976,  0.0963,  0.0978],\n",
       "        [ 0.0962,  0.0976,  0.0963,  0.0978],\n",
       "        [ 0.0962,  0.0976,  0.0963,  0.0978],\n",
       "        [ 0.0962,  0.0976,  0.0963,  0.0978],\n",
       "        [ 0.0962,  0.0976,  0.0963,  0.0978],\n",
       "        [ 0.0962,  0.0976,  0.0963,  0.0978],\n",
       "        [ 0.0962,  0.0976,  0.0963,  0.0978],\n",
       "        [ 0.0962,  0.0976,  0.0963,  0.0978],\n",
       "        [ 0.0962,  0.0976,  0.0963,  0.0978],\n",
       "        [ 0.0962,  0.0976,  0.0963,  0.0978],\n",
       "        [ 0.0962,  0.0976,  0.0963,  0.0978],\n",
       "        [ 0.0962,  0.0976,  0.0963,  0.0978],\n",
       "        [ 0.0962,  0.0976,  0.0963,  0.0978],\n",
       "        [ 0.0962,  0.0976,  0.0963,  0.0978],\n",
       "        [ 0.0962,  0.0976,  0.0963,  0.0978],\n",
       "        [ 0.0962,  0.0976,  0.0963,  0.0978],\n",
       "        [ 0.0962,  0.0976,  0.0963,  0.0978],\n",
       "        [ 0.0962,  0.0976,  0.0963,  0.0978],\n",
       "        [ 0.0962,  0.0976,  0.0963,  0.0978],\n",
       "        [ 0.0962,  0.0976,  0.0963,  0.0978],\n",
       "        [ 0.0962,  0.0976,  0.0963,  0.0978],\n",
       "        [ 0.0962,  0.0976,  0.0963,  0.0978],\n",
       "        [ 0.0962,  0.0976,  0.0963,  0.0978],\n",
       "        [ 0.0962,  0.0976,  0.0963,  0.0978],\n",
       "        [ 0.0962,  0.0976,  0.0963,  0.0978],\n",
       "        [ 0.0962,  0.0976,  0.0963,  0.0978],\n",
       "        [ 0.0962,  0.0976,  0.0963,  0.0978],\n",
       "        [ 0.0962,  0.0976,  0.0963,  0.0978],\n",
       "        [ 0.0962,  0.0976,  0.0963,  0.0978],\n",
       "        [ 0.0962,  0.0976,  0.0963,  0.0978],\n",
       "        [ 0.0962,  0.0976,  0.0963,  0.0978],\n",
       "        [ 0.0962,  0.0976,  0.0963,  0.0978],\n",
       "        [ 0.0962,  0.0976,  0.0963,  0.0978],\n",
       "        [ 0.0962,  0.0976,  0.0963,  0.0978],\n",
       "        [ 0.0962,  0.0976,  0.0963,  0.0978],\n",
       "        [ 0.0962,  0.0976,  0.0963,  0.0978],\n",
       "        [ 0.0962,  0.0976,  0.0963,  0.0978],\n",
       "        [ 0.0962,  0.0976,  0.0963,  0.0978],\n",
       "        [ 0.0962,  0.0976,  0.0963,  0.0978],\n",
       "        [ 0.0962,  0.0976,  0.0963,  0.0978],\n",
       "        [ 0.0962,  0.0976,  0.0963,  0.0978],\n",
       "        [ 0.0962,  0.0976,  0.0963,  0.0978],\n",
       "        [ 0.0962,  0.0976,  0.0963,  0.0978],\n",
       "        [ 0.0962,  0.0976,  0.0963,  0.0978],\n",
       "        [ 0.0962,  0.0976,  0.0963,  0.0978],\n",
       "        [ 0.0962,  0.0976,  0.0963,  0.0978],\n",
       "        [ 0.0962,  0.0976,  0.0963,  0.0978],\n",
       "        [ 0.0962,  0.0976,  0.0963,  0.0978],\n",
       "        [ 0.0962,  0.0976,  0.0963,  0.0978],\n",
       "        [ 0.0962,  0.0976,  0.0963,  0.0978],\n",
       "        [ 0.0962,  0.0976,  0.0963,  0.0978],\n",
       "        [ 0.0962,  0.0976,  0.0963,  0.0978],\n",
       "        [ 0.0962,  0.0976,  0.0963,  0.0978],\n",
       "        [-0.7811,  0.0998, -1.0431, -0.7521],\n",
       "        [ 0.0962,  0.0976,  0.0963,  0.0978],\n",
       "        [ 0.0962,  0.0976,  0.0963,  0.0978],\n",
       "        [ 0.0962,  0.0976,  0.0963,  0.0978],\n",
       "        [ 0.0962,  0.0976,  0.0963,  0.0978]], device='cuda:0')"
      ]
     },
     "execution_count": 27,
     "metadata": {},
     "output_type": "execute_result"
    }
   ],
   "source": [
    "agent.qnetwork_local(states)"
   ]
  },
  {
   "cell_type": "code",
   "execution_count": 40,
   "metadata": {},
   "outputs": [
    {
     "data": {
      "text/plain": [
       "tensor([[ 3],\n",
       "        [ 3],\n",
       "        [ 3],\n",
       "        [ 3],\n",
       "        [ 3],\n",
       "        [ 3],\n",
       "        [ 3],\n",
       "        [ 3],\n",
       "        [ 3],\n",
       "        [ 3],\n",
       "        [ 3],\n",
       "        [ 3],\n",
       "        [ 3],\n",
       "        [ 3],\n",
       "        [ 3],\n",
       "        [ 3],\n",
       "        [ 3],\n",
       "        [ 3],\n",
       "        [ 3],\n",
       "        [ 3],\n",
       "        [ 3],\n",
       "        [ 3],\n",
       "        [ 3],\n",
       "        [ 3],\n",
       "        [ 3],\n",
       "        [ 3],\n",
       "        [ 3],\n",
       "        [ 3],\n",
       "        [ 3],\n",
       "        [ 3],\n",
       "        [ 3],\n",
       "        [ 3],\n",
       "        [ 3],\n",
       "        [ 3],\n",
       "        [ 3],\n",
       "        [ 3],\n",
       "        [ 3],\n",
       "        [ 3],\n",
       "        [ 3],\n",
       "        [ 3],\n",
       "        [ 3],\n",
       "        [ 3],\n",
       "        [ 3],\n",
       "        [ 3],\n",
       "        [ 3],\n",
       "        [ 3],\n",
       "        [ 3],\n",
       "        [ 3],\n",
       "        [ 3],\n",
       "        [ 3],\n",
       "        [ 3],\n",
       "        [ 3],\n",
       "        [ 3],\n",
       "        [ 3],\n",
       "        [ 3],\n",
       "        [ 3],\n",
       "        [ 3],\n",
       "        [ 3],\n",
       "        [ 3],\n",
       "        [ 1],\n",
       "        [ 3],\n",
       "        [ 3],\n",
       "        [ 3],\n",
       "        [ 3]], device='cuda:0')"
      ]
     },
     "execution_count": 40,
     "metadata": {},
     "output_type": "execute_result"
    }
   ],
   "source": [
    "argmaxes.unsqueeze(-1)"
   ]
  },
  {
   "cell_type": "code",
   "execution_count": 38,
   "metadata": {},
   "outputs": [
    {
     "data": {
      "text/plain": [
       "tensor([  0.,   1.,   2.,   3.,   4.,   5.,   6.,   7.,   8.,   9.,\n",
       "         10.,  11.,  12.,  13.,  14.,  15.,  16.,  17.,  18.,  19.,\n",
       "         20.,  21.,  22.,  23.,  24.,  25.,  26.,  27.,  28.,  29.,\n",
       "         30.,  31.,  32.,  33.,  34.,  35.,  36.,  37.,  38.,  39.,\n",
       "         40.,  41.,  42.,  43.,  44.,  45.,  46.,  47.,  48.,  49.,\n",
       "         50.,  51.,  52.,  53.,  54.,  55.,  56.,  57.,  58.,  59.,\n",
       "         60.,  61.,  62.,  63.])"
      ]
     },
     "execution_count": 38,
     "metadata": {},
     "output_type": "execute_result"
    }
   ],
   "source": [
    "torch.arange(agent.qnetwork_local(states).detach().size(0))"
   ]
  },
  {
   "cell_type": "code",
   "execution_count": 42,
   "metadata": {},
   "outputs": [
    {
     "data": {
      "text/plain": [
       "tensor([[ 0.0962,  0.0976,  0.0963,  0.0978],\n",
       "        [ 0.0962,  0.0976,  0.0963,  0.0978],\n",
       "        [ 0.0962,  0.0976,  0.0963,  0.0978],\n",
       "        [ 0.0962,  0.0976,  0.0963,  0.0978],\n",
       "        [ 0.0962,  0.0976,  0.0963,  0.0978],\n",
       "        [ 0.0962,  0.0976,  0.0963,  0.0978],\n",
       "        [ 0.0962,  0.0976,  0.0963,  0.0978],\n",
       "        [ 0.0962,  0.0976,  0.0963,  0.0978],\n",
       "        [ 0.0962,  0.0976,  0.0963,  0.0978],\n",
       "        [ 0.0962,  0.0976,  0.0963,  0.0978],\n",
       "        [ 0.0962,  0.0976,  0.0963,  0.0978],\n",
       "        [ 0.0962,  0.0976,  0.0963,  0.0978],\n",
       "        [ 0.0962,  0.0976,  0.0963,  0.0978],\n",
       "        [ 0.0962,  0.0976,  0.0963,  0.0978],\n",
       "        [ 0.0962,  0.0976,  0.0963,  0.0978],\n",
       "        [ 0.0962,  0.0976,  0.0963,  0.0978],\n",
       "        [ 0.0962,  0.0976,  0.0963,  0.0978],\n",
       "        [ 0.0962,  0.0976,  0.0963,  0.0978],\n",
       "        [ 0.0962,  0.0976,  0.0963,  0.0978],\n",
       "        [ 0.0962,  0.0976,  0.0963,  0.0978],\n",
       "        [ 0.0962,  0.0976,  0.0963,  0.0978],\n",
       "        [ 0.0962,  0.0976,  0.0963,  0.0978],\n",
       "        [ 0.0962,  0.0976,  0.0963,  0.0978],\n",
       "        [ 0.0962,  0.0976,  0.0963,  0.0978],\n",
       "        [ 0.0962,  0.0976,  0.0963,  0.0978],\n",
       "        [ 0.0962,  0.0976,  0.0963,  0.0978],\n",
       "        [ 0.0962,  0.0976,  0.0963,  0.0978],\n",
       "        [ 0.0962,  0.0976,  0.0963,  0.0978],\n",
       "        [ 0.0962,  0.0976,  0.0963,  0.0978],\n",
       "        [ 0.0962,  0.0976,  0.0963,  0.0978],\n",
       "        [ 0.0962,  0.0976,  0.0963,  0.0978],\n",
       "        [ 0.0962,  0.0976,  0.0963,  0.0978],\n",
       "        [ 0.0962,  0.0976,  0.0963,  0.0978],\n",
       "        [ 0.0962,  0.0976,  0.0963,  0.0978],\n",
       "        [ 0.0962,  0.0976,  0.0963,  0.0978],\n",
       "        [ 0.0962,  0.0976,  0.0963,  0.0978],\n",
       "        [ 0.0962,  0.0976,  0.0963,  0.0978],\n",
       "        [ 0.0962,  0.0976,  0.0963,  0.0978],\n",
       "        [ 0.0962,  0.0976,  0.0963,  0.0978],\n",
       "        [ 0.0962,  0.0976,  0.0963,  0.0978],\n",
       "        [ 0.0962,  0.0976,  0.0963,  0.0978],\n",
       "        [ 0.0962,  0.0976,  0.0963,  0.0978],\n",
       "        [ 0.0962,  0.0976,  0.0963,  0.0978],\n",
       "        [ 0.0962,  0.0976,  0.0963,  0.0978],\n",
       "        [ 0.0962,  0.0976,  0.0963,  0.0978],\n",
       "        [ 0.0962,  0.0976,  0.0963,  0.0978],\n",
       "        [ 0.0962,  0.0976,  0.0963,  0.0978],\n",
       "        [ 0.0962,  0.0976,  0.0963,  0.0978],\n",
       "        [ 0.0962,  0.0976,  0.0963,  0.0978],\n",
       "        [ 0.0962,  0.0976,  0.0963,  0.0978],\n",
       "        [ 0.0962,  0.0976,  0.0963,  0.0978],\n",
       "        [ 0.0962,  0.0976,  0.0963,  0.0978],\n",
       "        [ 0.0962,  0.0976,  0.0963,  0.0978],\n",
       "        [ 0.0962,  0.0976,  0.0963,  0.0978],\n",
       "        [ 0.0962,  0.0976,  0.0963,  0.0978],\n",
       "        [ 0.0962,  0.0976,  0.0963,  0.0978],\n",
       "        [ 0.0962,  0.0976,  0.0963,  0.0978],\n",
       "        [ 0.0962,  0.0976,  0.0963,  0.0978],\n",
       "        [ 0.0962,  0.0976,  0.0963,  0.0978],\n",
       "        [-0.7811,  0.0998, -1.0431, -0.7521],\n",
       "        [ 0.0962,  0.0976,  0.0963,  0.0978],\n",
       "        [ 0.0962,  0.0976,  0.0963,  0.0978],\n",
       "        [ 0.0962,  0.0976,  0.0963,  0.0978],\n",
       "        [ 0.0962,  0.0976,  0.0963,  0.0978]], device='cuda:0')"
      ]
     },
     "execution_count": 42,
     "metadata": {},
     "output_type": "execute_result"
    }
   ],
   "source": [
    "agent.qnetwork_local(states).detach()"
   ]
  },
  {
   "cell_type": "code",
   "execution_count": 41,
   "metadata": {},
   "outputs": [
    {
     "data": {
      "text/plain": [
       "tensor(1.00000e-02 *\n",
       "       [[ 9.7787],\n",
       "        [ 9.7787],\n",
       "        [ 9.7787],\n",
       "        [ 9.7787],\n",
       "        [ 9.7787],\n",
       "        [ 9.7787],\n",
       "        [ 9.7787],\n",
       "        [ 9.7787],\n",
       "        [ 9.7787],\n",
       "        [ 9.7787],\n",
       "        [ 9.7787],\n",
       "        [ 9.7787],\n",
       "        [ 9.7787],\n",
       "        [ 9.7787],\n",
       "        [ 9.7787],\n",
       "        [ 9.7787],\n",
       "        [ 9.7787],\n",
       "        [ 9.7787],\n",
       "        [ 9.7787],\n",
       "        [ 9.7787],\n",
       "        [ 9.7787],\n",
       "        [ 9.7787],\n",
       "        [ 9.7787],\n",
       "        [ 9.7787],\n",
       "        [ 9.7787],\n",
       "        [ 9.7787],\n",
       "        [ 9.7787],\n",
       "        [ 9.7787],\n",
       "        [ 9.7787],\n",
       "        [ 9.7787],\n",
       "        [ 9.7787],\n",
       "        [ 9.7787],\n",
       "        [ 9.7787],\n",
       "        [ 9.7787],\n",
       "        [ 9.7787],\n",
       "        [ 9.7787],\n",
       "        [ 9.7787],\n",
       "        [ 9.7787],\n",
       "        [ 9.7787],\n",
       "        [ 9.7787],\n",
       "        [ 9.7787],\n",
       "        [ 9.7787],\n",
       "        [ 9.7787],\n",
       "        [ 9.7787],\n",
       "        [ 9.7787],\n",
       "        [ 9.7787],\n",
       "        [ 9.7787],\n",
       "        [ 9.7787],\n",
       "        [ 9.7787],\n",
       "        [ 9.7787],\n",
       "        [ 9.7787],\n",
       "        [ 9.7787],\n",
       "        [ 9.7787],\n",
       "        [ 9.7787],\n",
       "        [ 9.7787],\n",
       "        [ 9.7787],\n",
       "        [ 9.7787],\n",
       "        [ 9.7787],\n",
       "        [ 9.7787],\n",
       "        [ 9.9804],\n",
       "        [ 9.7787],\n",
       "        [ 9.7787],\n",
       "        [ 9.7787],\n",
       "        [ 9.7787]], device='cuda:0')"
      ]
     },
     "execution_count": 41,
     "metadata": {},
     "output_type": "execute_result"
    }
   ],
   "source": [
    "agent.qnetwork_local(states).detach().gather(1, argmaxes.unsqueeze(-1))"
   ]
  },
  {
   "cell_type": "code",
   "execution_count": 32,
   "metadata": {},
   "outputs": [],
   "source": [
    "import torch"
   ]
  },
  {
   "cell_type": "code",
   "execution_count": 33,
   "metadata": {},
   "outputs": [
    {
     "data": {
      "text/plain": [
       "tensor([[ 0.0978,  0.0978,  0.0978,  ...,  0.0978,  0.0978,  0.0978],\n",
       "        [ 0.0978,  0.0978,  0.0978,  ...,  0.0978,  0.0978,  0.0978],\n",
       "        [ 0.0978,  0.0978,  0.0978,  ...,  0.0978,  0.0978,  0.0978],\n",
       "        ...,\n",
       "        [ 0.0978,  0.0978,  0.0978,  ...,  0.0978,  0.0978,  0.0978],\n",
       "        [ 0.0978,  0.0978,  0.0978,  ...,  0.0978,  0.0978,  0.0978],\n",
       "        [ 0.0978,  0.0978,  0.0978,  ...,  0.0978,  0.0978,  0.0978]], device='cuda:0')"
      ]
     },
     "execution_count": 33,
     "metadata": {},
     "output_type": "execute_result"
    }
   ],
   "source": [
    "torch.index_select(agent.qnetwork_local(states).detach(), 1, argmaxes)"
   ]
  },
  {
   "cell_type": "code",
   "execution_count": 30,
   "metadata": {
    "scrolled": true
   },
   "outputs": [
    {
     "ename": "RuntimeError",
     "evalue": "invalid argument 2: Input tensor must have same size as output tensor apart from the specified dimension at /pytorch/aten/src/THC/generic/THCTensorScatterGather.cu:29",
     "output_type": "error",
     "traceback": [
      "\u001b[0;31m---------------------------------------------------------------------------\u001b[0m",
      "\u001b[0;31mRuntimeError\u001b[0m                              Traceback (most recent call last)",
      "\u001b[0;32m<ipython-input-30-384ee6555c35>\u001b[0m in \u001b[0;36m<module>\u001b[0;34m\u001b[0m\n\u001b[0;32m----> 1\u001b[0;31m \u001b[0magent\u001b[0m\u001b[0;34m.\u001b[0m\u001b[0mqnetwork_local\u001b[0m\u001b[0;34m(\u001b[0m\u001b[0mstates\u001b[0m\u001b[0;34m)\u001b[0m\u001b[0;34m.\u001b[0m\u001b[0mdetach\u001b[0m\u001b[0;34m(\u001b[0m\u001b[0;34m)\u001b[0m\u001b[0;34m.\u001b[0m\u001b[0mgather\u001b[0m\u001b[0;34m(\u001b[0m\u001b[0;36m1\u001b[0m\u001b[0;34m,\u001b[0m \u001b[0margmaxes\u001b[0m\u001b[0;34m.\u001b[0m\u001b[0munsqueeze\u001b[0m\u001b[0;34m(\u001b[0m\u001b[0;36m0\u001b[0m\u001b[0;34m)\u001b[0m\u001b[0;34m)\u001b[0m\u001b[0;34m\u001b[0m\u001b[0;34m\u001b[0m\u001b[0m\n\u001b[0m",
      "\u001b[0;31mRuntimeError\u001b[0m: invalid argument 2: Input tensor must have same size as output tensor apart from the specified dimension at /pytorch/aten/src/THC/generic/THCTensorScatterGather.cu:29"
     ]
    }
   ],
   "source": [
    "agent.qnetwork_local(states).detach().index_select(1, argmaxes.unsqueeze(0))"
   ]
  },
  {
   "cell_type": "code",
   "execution_count": 9,
   "metadata": {},
   "outputs": [],
   "source": [
    "agent.save('/home/charles/PycharmProjects/p1_navigation/model_weights')"
   ]
  },
  {
   "cell_type": "code",
   "execution_count": 10,
   "metadata": {},
   "outputs": [],
   "source": [
    "agent.load('/home/charles/PycharmProjects/p1_navigation/model_weights')"
   ]
  },
  {
   "cell_type": "code",
   "execution_count": 16,
   "metadata": {},
   "outputs": [],
   "source": [
    "import torch"
   ]
  },
  {
   "cell_type": "code",
   "execution_count": 21,
   "metadata": {},
   "outputs": [],
   "source": [
    "s = torch.from_numpy(state).float().unsqueeze(0).to(torch.device(\"cuda:0\" if torch.cuda.is_available() else \"cpu\"))"
   ]
  },
  {
   "cell_type": "code",
   "execution_count": 40,
   "metadata": {},
   "outputs": [],
   "source": [
    "argmax = agent.qnetwork_local(s).float().argmax(1)[0]"
   ]
  },
  {
   "cell_type": "code",
   "execution_count": 27,
   "metadata": {},
   "outputs": [
    {
     "data": {
      "text/plain": [
       "tensor([[ 0.4232]], device='cuda:0')"
      ]
     },
     "execution_count": 27,
     "metadata": {},
     "output_type": "execute_result"
    }
   ],
   "source": [
    "agent.qnetwork_local(s).detach().max(1)[0].unsqueeze(1)"
   ]
  },
  {
   "cell_type": "code",
   "execution_count": 44,
   "metadata": {},
   "outputs": [
    {
     "data": {
      "text/plain": [
       "tensor([[ 0.4232]], device='cuda:0')"
      ]
     },
     "execution_count": 44,
     "metadata": {},
     "output_type": "execute_result"
    }
   ],
   "source": [
    "agent.qnetwork_local(s)[0][argmax].unsqueeze(0).unsqueeze(1)"
   ]
  },
  {
   "cell_type": "code",
   "execution_count": null,
   "metadata": {},
   "outputs": [],
   "source": []
  }
 ],
 "metadata": {
  "kernelspec": {
   "display_name": "Python 3",
   "language": "python",
   "name": "python3"
  },
  "language_info": {
   "codemirror_mode": {
    "name": "ipython",
    "version": 3
   },
   "file_extension": ".py",
   "mimetype": "text/x-python",
   "name": "python",
   "nbconvert_exporter": "python",
   "pygments_lexer": "ipython3",
   "version": "3.6.13"
  }
 },
 "nbformat": 4,
 "nbformat_minor": 2
}
